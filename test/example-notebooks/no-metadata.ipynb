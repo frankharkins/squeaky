{
 "cells": [
  {
   "cell_type": "markdown",
   "id": "c874fb48-7b80-488a-bd39-0055eeff8da3",
   "metadata": {},
   "source": [
    "This is an example notebook with no metadata"
   ]
  }
 ],
 "metadata": {},
 "nbformat": 4,
 "nbformat_minor": 5
}
